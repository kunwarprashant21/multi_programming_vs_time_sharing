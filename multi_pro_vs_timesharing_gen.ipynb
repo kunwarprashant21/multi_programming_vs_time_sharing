{
 "cells": [
  {
   "cell_type": "code",
   "execution_count": 1,
   "metadata": {},
   "outputs": [],
   "source": [
    "import random\n",
    "import numpy as np\n",
    "import copy"
   ]
  },
  {
   "cell_type": "code",
   "execution_count": 2,
   "metadata": {},
   "outputs": [],
   "source": [
    "all_cpu_burst=0\n",
    "def bursttime(n):\n",
    "    burst=[]\n",
    "    for i in range(n):\n",
    "        x=random.randint(1,40)\n",
    "        all_cpu_burst+=x\n",
    "        burst.append(x)\n",
    "    return burst    "
   ]
  },
  {
   "cell_type": "code",
   "execution_count": 3,
   "metadata": {},
   "outputs": [],
   "source": [
    "def print_all_burst(all_burst):\n",
    "    print(\"burst time - i/o time - burst time  \")\n",
    "    for i in range(n):\n",
    "        print(all_burst[i])\n",
    "\n",
    "    "
   ]
  },
  {
   "cell_type": "code",
   "execution_count": 27,
   "metadata": {},
   "outputs": [
    {
     "name": "stdout",
     "output_type": "stream",
     "text": [
      "no. of processes: 15\n",
      "burst time - i/o time - burst time  \n",
      "[30, 39, 18, 34]\n",
      "[34, 21]\n",
      "[35, 34, 37, 8, 4, 35]\n",
      "[13, 9, 17, 7, 22, 33]\n",
      "[38, 33]\n",
      "[37, 27, 30, 23]\n",
      "[3, 37, 30, 6]\n",
      "[24, 3, 2, 27]\n",
      "[38, 6, 31, 39]\n",
      "[36, 21, 6, 3, 1, 12, 24, 21]\n",
      "[15, 6, 20, 16, 22, 13, 1, 29]\n",
      "[39, 5, 28, 40, 22, 3, 13, 11]\n",
      "[8, 6]\n",
      "[8, 38, 21, 38, 38, 24, 7, 16]\n",
      "[12, 40, 34, 5, 24, 20]\n",
      "processes in pool:\n",
      " {0, 1, 2, 3, 4, 5, 6, 7, 8, 9, 10, 11, 12, 13, 14}\n"
     ]
    }
   ],
   "source": [
    "\n",
    "sequence=[]   \n",
    "first_response=[]\n",
    "all_burst=[]\n",
    "\n",
    "pool=set()\n",
    "prompt=\"no. of processes: \"\n",
    "n=int(input(prompt))\n",
    "for process in range(n):\n",
    "    p=bursttime(2*random.randint(1,4))   # cpu/io cycles can be adjust here\n",
    "    all_burst.append(p)\n",
    "    pool.add(process)\n",
    "\n",
    "all_burst_copy= copy.deepcopy(all_burst)\n",
    "print_all_burst(all_burst)  \n",
    "print(\"processes in pool:\\n\",pool)  \n"
   ]
  },
  {
   "cell_type": "code",
   "execution_count": 5,
   "metadata": {},
   "outputs": [],
   "source": [
    "def update_process(all_burst, process_id):\n",
    "    cpu_time=0\n",
    "    for i in range(len(all_burst[process_id])):\n",
    "        if all_burst[process_id][i]!=0:\n",
    "            cpu_time= all_burst[process_id][i]   # cpu time needed this time \n",
    "            all_burst[process_id][i]= 0\n",
    "            all_burst[process_id][i+1]= 0\n",
    "            break    \n",
    "        \n",
    "    return all_burst, cpu_time\n",
    "    "
   ]
  },
  {
   "cell_type": "code",
   "execution_count": 6,
   "metadata": {},
   "outputs": [],
   "source": [
    "def update_pool(pool, all_burst):\n",
    "    no_of_process=len(all_burst)\n",
    "    for i in range(no_of_process):\n",
    "        if np.sum(np.array(all_burst[i]))==0 and i in pool:\n",
    "            pool.remove(i)\n",
    "        if np.sum(np.array(all_burst[i]))!=0 and i not in pool:\n",
    "            pool.add(i)\n",
    "            \n",
    "    \n",
    "    return pool"
   ]
  },
  {
   "cell_type": "code",
   "execution_count": 7,
   "metadata": {},
   "outputs": [],
   "source": [
    "\n",
    "def multiprogramming(all_burst, pool, first_response, sequence,complition_time):\n",
    "    cpu_time=0\n",
    "    \n",
    "    while len(pool)!=0:\n",
    "        \n",
    "        process_id=pool.pop()  #pops one element from the pool\n",
    "        \n",
    "        if process_id not in sequence:\n",
    "            sequence.append(process_id)  #will give the sequence in which the process got the chance to get cpu for first time \n",
    "            first_response.append(cpu_time)  #record the first response time\n",
    "        \n",
    "        all_burst, c_time = update_process(all_burst, process_id)\n",
    "        if all_burst[process_id][-1]==0:\n",
    "            complition_time[process_id]= cpu_time + c_time\n",
    "       \n",
    "        \n",
    "        \n",
    "        cpu_time = cpu_time+ c_time\n",
    "        pool= update_pool(pool, all_burst)\n",
    "        \n",
    "    \n",
    "    \n",
    "    switching_t=((all_cpu_burst/2)-1)*0.0038  # no. of switches=(len(pool)*2-1), 0.0038 ms is switching time\n",
    "    efficiency= cpu_time/(cpu_time+switching_t)\n",
    "    first_response=np.array(first_response)\n",
    "    avg_response= np.sum(first_response)/len(all_burst)  # no. of process=len(all_burst)\n",
    "    print(\"total cpu time to complete all processes : \",cpu_time,\"ms\")\n",
    "    return efficiency, avg_response , first_response, sequence, complition_time\n",
    "    \n",
    "    "
   ]
  },
  {
   "cell_type": "code",
   "execution_count": 8,
   "metadata": {},
   "outputs": [],
   "source": [
    "def waiting_time(complition_time, all_burst_copy):\n",
    "    wait=[]\n",
    "    i_o=[]\n",
    "    \n",
    "    for i in range(len(all_burst_copy)):\n",
    "        s=0\n",
    "        for j in range(1,len(all_burst_copy[i]),2):\n",
    "            s=s+all_burst_copy[i][j]\n",
    "        i_o.append(s)    \n",
    "            \n",
    "    for i in range(len(all_burst_copy)):\n",
    "        wait.append(complition_time[i] - np.sum(np.array(all_burst_copy[i] )) + i_o[i] )\n",
    "    \n",
    "    return wait\n",
    "    "
   ]
  },
  {
   "cell_type": "code",
   "execution_count": 28,
   "metadata": {},
   "outputs": [
    {
     "name": "stdout",
     "output_type": "stream",
     "text": [
      "total cpu time to complete all processes :  822 ms\n",
      "burst time - i/o time - burst time  \n",
      "[30, 39, 18, 34]\n",
      "[34, 21]\n",
      "[35, 34, 37, 8, 4, 35]\n",
      "[13, 9, 17, 7, 22, 33]\n",
      "[38, 33]\n",
      "[37, 27, 30, 23]\n",
      "[3, 37, 30, 6]\n",
      "[24, 3, 2, 27]\n",
      "[38, 6, 31, 39]\n",
      "[36, 21, 6, 3, 1, 12, 24, 21]\n",
      "[15, 6, 20, 16, 22, 13, 1, 29]\n",
      "[39, 5, 28, 40, 22, 3, 13, 11]\n",
      "[8, 6]\n",
      "[8, 38, 21, 38, 38, 24, 7, 16]\n",
      "[12, 40, 34, 5, 24, 20]\n",
      "complition time of processes p0, p1, p2 ... p 15 \n",
      "  [388  64 615 464 150 494 524 526 557 739 802 815 350 822 801]\n",
      "waiting time of processes p0, p1, p2 ... p 15 \n",
      "  [340, 30, 539, 412, 112, 427, 491, 500, 488, 672, 744, 713, 342, 748, 731]\n",
      "average waiting time:   485.93333333333334\n",
      "sequence of processes got cpu for first time\n",
      " [0, 1, 2, 3, 4, 5, 6, 7, 8, 9, 10, 11, 12, 13, 14]\n",
      "first response at time\n",
      "  [  0  30  64  99 112 150 187 190 214 252 288 303 342 350 358]\n",
      "efficiency with 2ms as switching time\n",
      "  99.9865954710208 %\n",
      "average response time\n",
      "  195.93333333333334 ms\n",
      "no. of processes that can be served per second :  41.899441340782126\n"
     ]
    }
   ],
   "source": [
    "complition_time=np.zeros((len(all_burst)),int)\n",
    "efficiency, avg_response , first_response, sequence , complition_time= multiprogramming(all_burst, pool, first_response, sequence,complition_time)\n",
    "print_all_burst(all_burst_copy)  \n",
    "print(\"complition time of processes p0, p1, p2 ... p\",n,\"\\n \", complition_time)\n",
    "wait= waiting_time(complition_time, all_burst_copy)\n",
    "print(\"waiting time of processes p0, p1, p2 ... p\",n,\"\\n \", wait)\n",
    "print(\"average waiting time:  \", np.average(np.array(wait)))\n",
    "print(\"sequence of processes got cpu for first time\\n\",sequence)\n",
    "print(\"first response at time\\n \",first_response)\n",
    "\n",
    "print(\"efficiency with 2ms as switching time\\n \",efficiency*100,\"%\")\n",
    "print(\"average response time\\n \",avg_response,\"ms\")\n",
    "print(\"no. of processes that can be served per second : \",(n*1000)/first_response[n-1])"
   ]
  },
  {
   "cell_type": "code",
   "execution_count": 29,
   "metadata": {},
   "outputs": [
    {
     "name": "stdout",
     "output_type": "stream",
     "text": [
      "no. of processes: 15\n",
      "enter the time slice in  milli sec: 10\n",
      "burst time - i/o time - burst time  \n",
      "[30, 39, 18, 34]\n",
      "[34, 21]\n",
      "[35, 34, 37, 8, 4, 35]\n",
      "[13, 9, 17, 7, 22, 33]\n",
      "[38, 33]\n",
      "[37, 27, 30, 23]\n",
      "[3, 37, 30, 6]\n",
      "[24, 3, 2, 27]\n",
      "[38, 6, 31, 39]\n",
      "[36, 21, 6, 3, 1, 12, 24, 21]\n",
      "[15, 6, 20, 16, 22, 13, 1, 29]\n",
      "[39, 5, 28, 40, 22, 3, 13, 11]\n",
      "[8, 6]\n",
      "[8, 38, 21, 38, 38, 24, 7, 16]\n",
      "[12, 40, 34, 5, 24, 20]\n",
      "processes in pool:\n",
      " {0, 1, 2, 3, 4, 5, 6, 7, 8, 9, 10, 11, 12, 13, 14}\n"
     ]
    }
   ],
   "source": [
    "\n",
    "sequence=[]   \n",
    "all_burst= copy.deepcopy(all_burst_copy)\n",
    "\n",
    "\n",
    "pool=set()\n",
    "\n",
    "prompt=\"no. of processes: \"\n",
    "n=int(input(prompt))\n",
    "\n",
    "prompt=\"enter the time slice in  milli sec: \"\n",
    "time_slice=int(input(prompt))\n",
    "\n",
    "\n",
    "for process in range(n):\n",
    "    #p=bursttime(3)\n",
    "    #all_burst.append(p)\n",
    "    pool.add(process)\n",
    "\n",
    "  \n",
    "print(\"burst time - i/o time - burst time  \")\n",
    "for i in range(n):\n",
    "    print(all_burst[i])\n",
    "print(\"processes in pool:\\n\",pool)    "
   ]
  },
  {
   "cell_type": "code",
   "execution_count": 18,
   "metadata": {},
   "outputs": [],
   "source": [
    "def update_burst_time(all_burst, process_id, time_slice):\n",
    "    cpu_idle=0\n",
    "    for i in range(len(all_burst[process_id])):\n",
    "        if all_burst[process_id][i]>0:\n",
    "            if all_burst[process_id][i]>time_slice:\n",
    "                all_burst[process_id][i]= all_burst[process_id][i] - time_slice\n",
    "                break\n",
    "            else:\n",
    "                cpu_idle= time_slice - all_burst[process_id][i]\n",
    "                all_burst[process_id][i]= 0\n",
    "                all_burst[process_id][i+1]= 0\n",
    "                break\n",
    "    \n",
    "    return all_burst, cpu_idle\n",
    "    \n",
    "    "
   ]
  },
  {
   "cell_type": "code",
   "execution_count": 19,
   "metadata": {},
   "outputs": [],
   "source": [
    "def timesharing(all_burst, pool, first_response, sequence,complition_time,time_slice):\n",
    "    cpu_time=0\n",
    "    total_cpu_idle=0\n",
    "    \n",
    "    while len(pool)!=0:\n",
    "        for process_id in range(len(all_burst)):\n",
    "            if process_id in pool:\n",
    "                sequence.append(process_id)  #will give the sequence in which the process got the chance to run                \n",
    "                all_burst, cpu_idle= update_burst_time(all_burst, process_id, time_slice)\n",
    "                total_cpu_idle= total_cpu_idle + cpu_idle\n",
    "                if all_burst[process_id][-1]==0:\n",
    "                    complition_time[process_id]= cpu_time + time_slice\n",
    "                cpu_time= cpu_time + time_slice\n",
    "                pool= update_pool(pool, all_burst)\n",
    "                \n",
    "    switching_t=(len(sequence)-1)*0.0038  # 0.0038 ms switching time            \n",
    "    efficiency=cpu_time/(cpu_time+switching_t+total_cpu_idle)\n",
    "    for process in range(len(all_burst)-1):\n",
    "        first_response[process+1]= first_response[process]+time_slice\n",
    "    avg_response= np.sum(first_response)/len(all_burst)  # no. of process=len(all_burst)\n",
    "    print(\"total cpu time: \",cpu_time,\"ms\")\n",
    "    print(\"total cpu idle time: \",total_cpu_idle,\"ms\")\n",
    "    return efficiency, avg_response , first_response, sequence, complition_time\n",
    "    "
   ]
  },
  {
   "cell_type": "code",
   "execution_count": 30,
   "metadata": {},
   "outputs": [
    {
     "name": "stdout",
     "output_type": "stream",
     "text": [
      "total cpu time:  1000 ms\n",
      "total cpu idle time:  178 ms\n",
      "burst time - i/o time - burst time  \n",
      "[30, 39, 18, 34]\n",
      "[34, 21]\n",
      "[35, 34, 37, 8, 4, 35]\n",
      "[13, 9, 17, 7, 22, 33]\n",
      "[38, 33]\n",
      "[37, 27, 30, 23]\n",
      "[3, 37, 30, 6]\n",
      "[24, 3, 2, 27]\n",
      "[38, 6, 31, 39]\n",
      "[36, 21, 6, 3, 1, 12, 24, 21]\n",
      "[15, 6, 20, 16, 22, 13, 1, 29]\n",
      "[39, 5, 28, 40, 22, 3, 13, 11]\n",
      "[8, 6]\n",
      "[8, 38, 21, 38, 38, 24, 7, 16]\n",
      "[12, 40, 34, 5, 24, 20]\n",
      "complition time of processes p0, p1, p2 ... p 15 \n",
      "  [ 580  450  930  780  480  790  500  510  870  940  890 1000  130  960\n",
      "  970]\n",
      "waiting time of processes p0, p1, p2 ... p 15 \n",
      "  [532, 416, 854, 728, 442, 723, 467, 484, 801, 873, 832, 898, 122, 886, 900]\n",
      "average waiting time:   663.8666666666667\n",
      "sequence of processes got cpu for first time\n",
      " [0, 1, 2, 3, 4, 5, 6, 7, 8, 9, 10, 11, 12, 13, 14, 0, 1, 2, 3, 4, 5, 6, 7, 8, 9, 10, 11, 13, 14, 0, 1, 2, 3, 4, 5, 6, 7, 8, 9, 10, 11, 13, 14, 0, 1, 2, 3, 4, 5, 6, 7, 8, 9, 10, 11, 13, 14, 0, 2, 3, 5, 8, 9, 10, 11, 13, 14, 2, 3, 5, 8, 9, 10, 11, 13, 14, 2, 3, 5, 8, 9, 10, 11, 13, 14, 2, 8, 9, 10, 11, 13, 14, 2, 9, 11, 13, 14, 11, 11, 11]\n",
      "first response at time\n",
      "  [  0  10  20  30  40  50  60  70  80  90 100 110 120 130 140]\n",
      "efficiency with 3.8 micro sec as switching time\n",
      "  84.86254220002067 %\n",
      "average response time\n",
      "  70.0 ms\n",
      "no. of processes that can be served per second :  107.14285714285714\n"
     ]
    }
   ],
   "source": [
    "first_response= np.zeros(len(all_burst),int)\n",
    "complition_time=np.zeros((len(all_burst)),int)\n",
    "\n",
    "efficiency, avg_response , first_response, sequence , complition_time= timesharing(all_burst, pool, first_response, sequence,complition_time,time_slice)\n",
    "print_all_burst(all_burst_copy) \n",
    "print(\"complition time of processes p0, p1, p2 ... p\",n,\"\\n \", complition_time)\n",
    "wait= waiting_time(complition_time, all_burst_copy)\n",
    "print(\"waiting time of processes p0, p1, p2 ... p\",n,\"\\n \", wait)\n",
    "print(\"average waiting time:  \", np.average(np.array(wait)))\n",
    "print(\"sequence of processes got cpu for first time\\n\",sequence)\n",
    "print(\"first response at time\\n \",first_response)\n",
    "\n",
    "print(\"efficiency with 3.8 micro sec as switching time\\n \",efficiency*100,\"%\")\n",
    "print(\"average response time\\n \",avg_response,\"ms\")\n",
    "print(\"no. of processes that can be served per second : \",(n*1000)/first_response[n-1])"
   ]
  },
  {
   "cell_type": "code",
   "execution_count": 60,
   "metadata": {},
   "outputs": [
    {
     "data": {
      "text/plain": [
       "[[5, 2, 11], [3, 19, 7], [15, 19, 8], [11, 11, 11]]"
      ]
     },
     "execution_count": 60,
     "metadata": {},
     "output_type": "execute_result"
    }
   ],
   "source": [
    "all_burst_copy"
   ]
  },
  {
   "cell_type": "code",
   "execution_count": 65,
   "metadata": {},
   "outputs": [
    {
     "data": {
      "text/plain": [
       "3"
      ]
     },
     "execution_count": 65,
     "metadata": {},
     "output_type": "execute_result"
    }
   ],
   "source": [
    "len(all_burst_copy[i])"
   ]
  },
  {
   "cell_type": "code",
   "execution_count": 24,
   "metadata": {},
   "outputs": [
    {
     "name": "stdout",
     "output_type": "stream",
     "text": [
      "3.8.5\n"
     ]
    }
   ],
   "source": [
    "from platform import python_version\n",
    "\n",
    "print(python_version())"
   ]
  },
  {
   "cell_type": "code",
   "execution_count": 52,
   "metadata": {},
   "outputs": [],
   "source": [
    "l= [[0, 11, 0], [0, 9, 0]]\n",
    "import copy\n",
    "l1=copy.copy(l)\n",
    "l2= l.copy()\n",
    "l3= list(l)\n",
    "l4= l[:]\n",
    "l5= copy.deepcopy(l)"
   ]
  },
  {
   "cell_type": "code",
   "execution_count": 54,
   "metadata": {},
   "outputs": [
    {
     "name": "stdout",
     "output_type": "stream",
     "text": [
      "[[900, 11, 0], [111, 9, 0]]\n",
      "[[900, 11, 0], [111, 9, 0]]\n",
      "[[900, 11, 0], [111, 9, 0]]\n",
      "[[900, 11, 0], [111, 9, 0]]\n",
      "[[0, 11, 0], [0, 9, 0]]\n"
     ]
    }
   ],
   "source": [
    "l[0][0]=900\n",
    "l[1][0]=111\n",
    "print(l1)\n",
    "print(l2)\n",
    "print(l3)\n",
    "print(l4)\n",
    "print(l5)"
   ]
  },
  {
   "cell_type": "code",
   "execution_count": 95,
   "metadata": {},
   "outputs": [
    {
     "name": "stdout",
     "output_type": "stream",
     "text": [
      "33\n",
      "4\n",
      "3\n"
     ]
    }
   ],
   "source": [
    "a=[[2,3,3,4,5,4],[0,33,0,4,0,3]]\n",
    "for j in range(1,6,2):\n",
    "    print(a[1][j])"
   ]
  },
  {
   "cell_type": "code",
   "execution_count": null,
   "metadata": {},
   "outputs": [],
   "source": []
  }
 ],
 "metadata": {
  "kernelspec": {
   "display_name": "Python 3",
   "language": "python",
   "name": "python3"
  },
  "language_info": {
   "codemirror_mode": {
    "name": "ipython",
    "version": 3
   },
   "file_extension": ".py",
   "mimetype": "text/x-python",
   "name": "python",
   "nbconvert_exporter": "python",
   "pygments_lexer": "ipython3",
   "version": "3.8.5"
  }
 },
 "nbformat": 4,
 "nbformat_minor": 4
}
